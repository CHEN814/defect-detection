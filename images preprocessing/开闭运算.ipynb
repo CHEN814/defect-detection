{
 "cells": [
  {
   "cell_type": "code",
   "execution_count": 1,
   "metadata": {},
   "outputs": [],
   "source": [
    "import cv2 as cv\n",
    "import numpy as np"
   ]
  },
  {
   "cell_type": "code",
   "execution_count": 2,
   "metadata": {},
   "outputs": [],
   "source": [
    "#开运算 就是先腐蚀后膨胀 利用开闭运算可以提取水平或者垂直的线条\n",
    "def open_demo(image):\n",
    "    gray=cv.cvtColor(image,cv.COLOR_BGR2GRAY)\n",
    "    ret,binary=cv.threshold(gray,0,255,cv.THRESH_BINARY_INV|cv.THRESH_OTSU)\n",
    "    cv.imshow(\"binary\",binary)\n",
    "    kernel=cv.getStructuringElement(cv.MORPH_RECT,(15,1))\n",
    "    binary=cv.morphologyEx(binary,cv.MORPH_OPEN,kernel)\n",
    "    cv.imshow(\"open_result\",binary)\n",
    "\n",
    "#闭运算 就是先膨胀后腐蚀操作    \n",
    "def close_demo(image):\n",
    "    gray=cv.cvtColor(image,cv.COLOR_BGR2GRAY)\n",
    "    ret,binary=cv.threshold(gray,0,255,cv.THRESH_BINARY|cv.THRESH_OTSU)\n",
    "    cv.imshow(\"binary\",binary)\n",
    "    kernel=cv.getStructuringElement(cv.MORPH_RECT,(5,5))\n",
    "    binary=cv.morphologyEx(binary,cv.MORPH_CLOSE,kernel)\n",
    "    cv.imshow(\"open_result\",binary)\n",
    "\n",
    "#下面代码就是用于求基本梯度，基本梯度等于 膨胀减去腐蚀后的图像\n",
    "def hat_binary_demo(image):\n",
    "    gray=cv.cvtColor(image,cv.COLOR_BGR2GRAY)\n",
    "    ret,binary=cv.threshold(gray,0,255,cv.THRESH_BINARY|cv.THRESH_OTSU)\n",
    "    kernel=cv.getStructuringElement(cv.MORPH_RECT,(3,3))\n",
    "    dst=cv.morphologyEx(binary,cv.MORPH_GRADIENT,kernel)\n",
    "    cv.imshow(\"tophat\",dst)\n",
    "\n",
    "#下面代码用于求内部和外部梯度的方法\n",
    "def gradient_demo(image):\n",
    "    kernel=cv.getStructuringElement(cv.MORPH_RECT,(3,3))\n",
    "    dm=cv.dilate(image,kernel)\n",
    "    em=cv.erode(image,kernel)\n",
    "    dst1=cv.subtract(image,em)#internol gradient 内部梯度 原图像和腐蚀图像的差值\n",
    "    dst2=cv.subtract(dm,image)#externol gradient 外部梯度 膨胀后的图像和原图像的差值\n",
    "    cv.imshow(\"internol gradient\",dst1)\n",
    "    cv.imshow(\"externol gradient\",dst2)"
   ]
  },
  {
   "cell_type": "code",
   "execution_count": 3,
   "metadata": {},
   "outputs": [],
   "source": [
    "# src=cv.imread(\"D:\\python picture\\img10.png\")\n",
    "# cv.imshow(\"input image\",src)\n",
    "# open_demo(src)\n",
    "src1=cv.imread(\"D:\\python picture\\IMG_6239.PNG\")\n",
    "cv.imshow(\"input_image1\",src1)\n",
    "gradient_demo(src1)\n",
    "cv.waitKey(0)\n",
    "cv.destroyAllWindows()"
   ]
  },
  {
   "cell_type": "code",
   "execution_count": null,
   "metadata": {},
   "outputs": [],
   "source": []
  }
 ],
 "metadata": {
  "kernelspec": {
   "display_name": "Python 3",
   "language": "python",
   "name": "python3"
  },
  "language_info": {
   "codemirror_mode": {
    "name": "ipython",
    "version": 3
   },
   "file_extension": ".py",
   "mimetype": "text/x-python",
   "name": "python",
   "nbconvert_exporter": "python",
   "pygments_lexer": "ipython3",
   "version": "3.6.5"
  }
 },
 "nbformat": 4,
 "nbformat_minor": 2
}
