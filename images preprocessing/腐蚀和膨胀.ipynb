{
 "cells": [
  {
   "cell_type": "code",
   "execution_count": 27,
   "metadata": {},
   "outputs": [],
   "source": [
    "import cv2 as cv"
   ]
  },
  {
   "cell_type": "code",
   "execution_count": 28,
   "metadata": {},
   "outputs": [],
   "source": [
    "#腐蚀操作\n",
    "def erode_demo(image):\n",
    "    gray=cv.cvtColor(image,cv.COLOR_BGR2GRAY)\n",
    "    #下面代码中的INV就是取背景为黑（白），还是取前景目标为黑（白）\n",
    "    ret,binary=cv.threshold(gray,0,255,cv.THRESH_BINARY_INV|cv.THRESH_OTSU)\n",
    "    cv.imshow(\"binary_demo\",binary)\n",
    "    kernel=cv.getStructuringElement(cv.MORPH_RECT,(10,10))\n",
    "    dst=cv.erode(binary,kernel)\n",
    "    cv.imshow(\"erode_demo\",dst)\n",
    "\n",
    "#膨胀操作   \n",
    "def dilate_demo(image):\n",
    "    gray=cv.cvtColor(image,cv.COLOR_BGR2GRAY)\n",
    "    ret,binary=cv.threshold(gray,0,255,cv.THRESH_BINARY_INV|cv.THRESH_OTSU)\n",
    "    cv.imshow(\"binary_demo\",binary)\n",
    "    kernel=cv.getStructuringElement(cv.MORPH_RECT,(10,10))\n",
    "    dst=cv.dilate(binary,kernel)\n",
    "    cv.imshow(\"dilate_demo\",dst)"
   ]
  },
  {
   "cell_type": "code",
   "execution_count": 29,
   "metadata": {},
   "outputs": [
    {
     "name": "stdout",
     "output_type": "stream",
     "text": [
      "(501, 506, 3)\n"
     ]
    }
   ],
   "source": [
    "src=cv.imread(\"D:\\python picture\\img9.PNG\")\n",
    "print(src.shape)\n",
    "erode_demo(src)\n",
    "cv.waitKey(0)\n",
    "cv.destroyAllWindows()"
   ]
  },
  {
   "cell_type": "code",
   "execution_count": null,
   "metadata": {},
   "outputs": [],
   "source": []
  }
 ],
 "metadata": {
  "kernelspec": {
   "display_name": "Python 3",
   "language": "python",
   "name": "python3"
  },
  "language_info": {
   "codemirror_mode": {
    "name": "ipython",
    "version": 3
   },
   "file_extension": ".py",
   "mimetype": "text/x-python",
   "name": "python",
   "nbconvert_exporter": "python",
   "pygments_lexer": "ipython3",
   "version": "3.6.5"
  }
 },
 "nbformat": 4,
 "nbformat_minor": 2
}
