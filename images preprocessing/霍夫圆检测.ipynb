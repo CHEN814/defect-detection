{
 "cells": [
  {
   "cell_type": "code",
   "execution_count": 18,
   "metadata": {},
   "outputs": [],
   "source": [
    "import cv2 as cv\n",
    "import numpy as np"
   ]
  },
  {
   "cell_type": "code",
   "execution_count": 19,
   "metadata": {},
   "outputs": [],
   "source": [
    "#定义霍夫直线检测函数\n",
    "def line_detect_demo(image):\n",
    "    gray=cv.cvtColor(image,cv.COLOR_BGR2GRAY)\n",
    "    edges=cv.Canny(gray,50,150,apertureSize=3)\n",
    "    lines=cv.HoughLines(edges,1,np.pi/180,200)\n",
    "    for line in lines:\n",
    "        rho,theta=line[0]\n",
    "        a=np.cos(theta)\n",
    "        b=np.sin(theta)\n",
    "        x0=a*rho\n",
    "        y0=b*rho\n",
    "        x1=int(x0+1000*(-b))\n",
    "        y1=int(y0+1000*(a))\n",
    "        x2=int(x0-1000*(-b))\n",
    "        y2=int(y0-1000*(a))\n",
    "        cv.line(image,(x1,y1),(x2,y2),(0,0,255),2)\n",
    "    cv.imshow(\"image_line\",image)\n",
    "\n",
    "def line_detect_possible_demo(iamge):\n",
    "    gray=cv.cvtColor(image,cv.COLOR_BGR2GRAY)\n",
    "    edges=cv.Canny(gray,50,150,apertureSize=3)\n",
    "    lines=cv.HoughLinesP(edges,1,np.pi/180,100,minLineLength=50,maxLineGap=10)\n",
    "    for line in lines:\n",
    "        x1,y1,x2,y2=line[0]\n",
    "        cv.line(iamge,(x1,y1),(x2,y2),(0,0,255),2)\n",
    "    cv.imshow(\"images_line\",image)\n",
    "\n",
    "#圆检测\n",
    "def detect_circles_demo(image):\n",
    "    dst=cv.pyrMeanShiftFiltering(image,10,100)\n",
    "    cimage=cv.cvtColor(dst,cv.COLOR_BGR2GRAY)\n",
    "    circles=cv.HoughCircles(cimage,cv.HOUGH_GRADIENT,1,50,param1=50,param2=30,minRadius=0,maxRadius=0)\n",
    "    circles=np.uint16(np.around(circles))\n",
    "    for i in circles[0,:]:\n",
    "        cv.circle(image,(i[0],i[1]),i[2],(0,0,255),2)#i[0],i[1],i[2],(0,0,255),2。分别代表的是圆心的坐标，半径值，颜色，以及线宽。\n",
    "        cv.circle(image,(i[0],i[1]),2,(255,0,0),2)\n",
    "    cv.imshow(\"circles\",image)"
   ]
  },
  {
   "cell_type": "code",
   "execution_count": 20,
   "metadata": {},
   "outputs": [
    {
     "name": "stdout",
     "output_type": "stream",
     "text": [
      "(300, 299, 3)\n"
     ]
    }
   ],
   "source": [
    "src=cv.imread(\"D:\\python picture\\image8.png\")\n",
    "print(src.shape)\n",
    "cv.imshow(\"imput\",src)\n",
    "detect_circles_demo(src)\n",
    "#line_detect_demo(src)\n",
    "cv.waitKey(0)\n",
    "cv.destroyAllWindows()"
   ]
  },
  {
   "cell_type": "code",
   "execution_count": null,
   "metadata": {},
   "outputs": [],
   "source": []
  }
 ],
 "metadata": {
  "kernelspec": {
   "display_name": "Python 3",
   "language": "python",
   "name": "python3"
  },
  "language_info": {
   "codemirror_mode": {
    "name": "ipython",
    "version": 3
   },
   "file_extension": ".py",
   "mimetype": "text/x-python",
   "name": "python",
   "nbconvert_exporter": "python",
   "pygments_lexer": "ipython3",
   "version": "3.6.5"
  }
 },
 "nbformat": 4,
 "nbformat_minor": 2
}
