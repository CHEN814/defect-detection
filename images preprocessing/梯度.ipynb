{
 "cells": [
  {
   "cell_type": "code",
   "execution_count": 1,
   "metadata": {},
   "outputs": [],
   "source": [
    "import cv2 as cv\n",
    "import numpy as np"
   ]
  },
  {
   "cell_type": "code",
   "execution_count": 2,
   "metadata": {},
   "outputs": [],
   "source": [
    "#拉普拉斯算子\n",
    "def lapalian_demo(iamge):\n",
    "    #dst=cv.Laplacian(iamge,cv.CV_32F)\n",
    "    #lpls=cv.convertScaleAbs(dst)\n",
    "    #cv.imshow(\"lapalian_demo\",lpls)\n",
    "    kernel=np.array([[1,1,1],[1,-8,1],[1,1,1]])\n",
    "    #利用原图像和卷积核进行卷积操作\n",
    "    dst=cv.filter2D(iamge,cv.CV_32F,kernel=kernel)\n",
    "    #这个操作就是进行取绝对值的操作，这个函数后面还有三个参数，分别是，输出图像，a,b,最后结果为a乘以原图加上b再取绝对值的操作。\n",
    "    lpls=cv.convertScaleAbs(dst)\n",
    "    cv.imshow(\"lapalian_demo\",lpls)\n",
    "\n",
    "    \n",
    "#索贝尔算子\n",
    "def sobel_demo(image):\n",
    "    grad_x=cv.Sobel(image,cv.CV_32F,1,0)\n",
    "    grad_y=cv.Sobel(image,cv.CV_32F,0,1)\n",
    "    gradx=cv.convertScaleAbs(grad_x)\n",
    "    grady=cv.convertScaleAbs(grad_y)\n",
    "    cv.imshow(\"grad_x\",gradx)\n",
    "    cv.imshow(\"grad_y\",grady)\n",
    "    gradxy=cv.addWeighted(gradx,0.5,grady,0.5,0)\n",
    "    cv.imshow(\"gradient\",gradxy)\n",
    "    "
   ]
  },
  {
   "cell_type": "code",
   "execution_count": 3,
   "metadata": {},
   "outputs": [],
   "source": [
    "src=cv.imread(\"D:\\python picture\\img6.JPG\")\n",
    "src1=cv.resize(src,(512,512))\n",
    "cv.imshow(\"input image\",src1)\n",
    "sobel_demo(src1)\n",
    "cv.waitKey(0)\n",
    "cv.destroyAllWindows()"
   ]
  },
  {
   "cell_type": "code",
   "execution_count": 17,
   "metadata": {},
   "outputs": [],
   "source": []
  }
 ],
 "metadata": {
  "kernelspec": {
   "display_name": "Python 3",
   "language": "python",
   "name": "python3"
  },
  "language_info": {
   "codemirror_mode": {
    "name": "ipython",
    "version": 3
   },
   "file_extension": ".py",
   "mimetype": "text/x-python",
   "name": "python",
   "nbconvert_exporter": "python",
   "pygments_lexer": "ipython3",
   "version": "3.6.5"
  }
 },
 "nbformat": 4,
 "nbformat_minor": 2
}
