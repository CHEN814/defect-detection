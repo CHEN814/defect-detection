{
 "cells": [
  {
   "cell_type": "code",
   "execution_count": 1,
   "metadata": {},
   "outputs": [],
   "source": [
    "import cv2 as cv\n",
    "import numpy as np\n",
    "import matplotlib.pyplot as plt"
   ]
  },
  {
   "cell_type": "code",
   "execution_count": 2,
   "metadata": {},
   "outputs": [],
   "source": [
    "def template_demo():\n",
    "    tpl=cv.imread(\"D:\\python picture\\img3.png\")\n",
    "    target=cv.imread(\"D:\\python picture\\img2.JPG\")\n",
    "    cv.imshow(\"template image\",tpl)\n",
    "    cv.imshow(\"target image\",target)\n",
    "    methods=[cv.TM_SQDIFF_NORMED,cv.TM_CCORR_NORMED,cv.TM_CCOEFF_NORMED]\n",
    "    th,tw=tpl.shape[:2]\n",
    "    for md in methods:\n",
    "        print(md)\n",
    "        result=cv.matchTemplate(target,tpl,md)\n",
    "        #cv.imshow(\"template_demo\",result)\n",
    "        min_val,max_val,min_loc,max_loc=cv.minMaxLoc(result)\n",
    "        if md==cv.TM_SQDIFF_NORMED:\n",
    "            tl=min_loc\n",
    "        else:\n",
    "            tl=max_loc\n",
    "        br=(tl[0]+tw,tl[1]+th)\n",
    "        cv.rectangle(target,tl,br,(0,0,255),2)\n",
    "        cv.imshow(\"match-\"+np.str(md),target)\n",
    "        "
   ]
  },
  {
   "cell_type": "code",
   "execution_count": 3,
   "metadata": {},
   "outputs": [
    {
     "name": "stdout",
     "output_type": "stream",
     "text": [
      "1\n",
      "3\n",
      "5\n"
     ]
    }
   ],
   "source": [
    "template_demo()\n",
    "cv.waitKey(0)\n",
    "cv.destroyAllWindows()"
   ]
  },
  {
   "cell_type": "code",
   "execution_count": null,
   "metadata": {},
   "outputs": [],
   "source": []
  }
 ],
 "metadata": {
  "kernelspec": {
   "display_name": "Python 3",
   "language": "python",
   "name": "python3"
  },
  "language_info": {
   "codemirror_mode": {
    "name": "ipython",
    "version": 3
   },
   "file_extension": ".py",
   "mimetype": "text/x-python",
   "name": "python",
   "nbconvert_exporter": "python",
   "pygments_lexer": "ipython3",
   "version": "3.6.5"
  }
 },
 "nbformat": 4,
 "nbformat_minor": 2
}
